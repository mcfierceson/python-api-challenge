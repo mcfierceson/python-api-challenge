{
 "cells": [
  {
   "cell_type": "markdown",
   "metadata": {},
   "source": [
    "# WeatherPy\n",
    "----\n",
    "\n",
    "#### Note\n",
    "* Instructions have been included for each segment. You do not have to follow them exactly, but they are included to help you think through the steps."
   ]
  },
  {
   "cell_type": "code",
   "execution_count": null,
   "metadata": {
    "scrolled": true
   },
   "outputs": [],
   "source": [
    "# Dependencies and Setup\n",
    "import matplotlib.pyplot as plt\n",
    "import pandas as pd\n",
    "import numpy as np\n",
    "import requests\n",
    "import time\n",
    "from scipy import stats\n",
    "from scipy.stats import linregress\n",
    "\n",
    "# Import API key\n",
    "from api_keys import weather_api_key\n",
    "\n",
    "# Incorporated citipy to determine city based on latitude and longitude\n",
    "from citipy import citipy\n",
    "\n",
    "# Output File (CSV)\n",
    "output_data_file = \"output_data/marks_cities.csv\"\n",
    "\n",
    "# Range of latitudes and longitudes\n",
    "lat_range = (-90, 90)\n",
    "lng_range = (-180, 180)"
   ]
  },
  {
   "cell_type": "markdown",
   "metadata": {},
   "source": [
    "## Generate Cities List"
   ]
  },
  {
   "cell_type": "code",
   "execution_count": null,
   "metadata": {},
   "outputs": [],
   "source": [
    "# List for holding lat_lngs and cities\n",
    "lat_lngs = []\n",
    "cities = []\n",
    "\n",
    "# Create a set of random lat and lng combinations\n",
    "lats = np.random.uniform(low=-90.000, high=90.000, size=1500)\n",
    "lngs = np.random.uniform(low=-180.000, high=180.000, size=1500)\n",
    "lat_lngs = zip(lats, lngs)\n",
    "\n",
    "# Identify nearest city for each lat, lng combination\n",
    "for lat_lng in lat_lngs:\n",
    "    city = citipy.nearest_city(lat_lng[0], lat_lng[1]).city_name\n",
    "    \n",
    "    # If the city is unique, then add it to a our cities list\n",
    "    if city not in cities:\n",
    "        cities.append(city)\n",
    "\n",
    "# Print the city count to confirm sufficient count\n",
    "len(cities)"
   ]
  },
  {
   "cell_type": "markdown",
   "metadata": {},
   "source": [
    "### Perform API Calls\n",
    "* Perform a weather check on each city using a series of successive API calls.\n",
    "* Include a print log of each city as it'sbeing processed (with the city number and city name).\n"
   ]
  },
  {
   "cell_type": "code",
   "execution_count": null,
   "metadata": {},
   "outputs": [],
   "source": [
    "# Save config information.\n",
    "url = \"http://api.openweathermap.org/data/2.5/weather?\"\n",
    "units = \"metric\"\n",
    "api_key = weather_api_key\n",
    "\n",
    "temp = []\n",
    "humidity = []\n",
    "clouds = []\n",
    "wind = []\n",
    "country = []\n",
    "lat = []\n",
    "lon = []\n",
    "dates = []\n",
    "cities_updated = []\n",
    "city_count = 0\n",
    "cities_length = len(cities)\n",
    "\n",
    "query_url = f\"{url}appid={api_key}&units={units}&q=\"\n",
    "\n",
    "print(\"Beginning Data Retrieval\")\n",
    "print(\"-----------------------------\")\n",
    "for city in cities:\n",
    "    city_count = city_count + 1\n",
    "    response = requests.get(query_url + city).json()\n",
    "    #error handling\n",
    "    try:\n",
    "        temp.append(response['main']['temp_max'])\n",
    "        humidity.append(response['main']['humidity'])\n",
    "        clouds.append(response['clouds']['all'])\n",
    "        wind.append(response['wind']['speed'])\n",
    "        lat.append(response['coord']['lat'])\n",
    "        lon.append(response['coord']['lon'])\n",
    "        country.append(response['sys']['country'])\n",
    "        dates.append(response['dt'])\n",
    "        cities_updated.append(response['name'])\n",
    "        print(f\"Processing {city_count} of {cities_length} | {city}\")\n",
    "    except KeyError:\n",
    "        print(\"City not found. Skipping...\")"
   ]
  },
  {
   "cell_type": "markdown",
   "metadata": {},
   "source": [
    "### Convert Raw Data to DataFrame\n",
    "* Export the city data into a .csv.\n",
    "* Display the DataFrame"
   ]
  },
  {
   "cell_type": "code",
   "execution_count": null,
   "metadata": {},
   "outputs": [],
   "source": [
    "weather_dict = {\n",
    "    \"City\": cities_updated,\n",
    "    \"Country\": country,\n",
    "    \"Date\": dates,\n",
    "    \"Max Temp\": temp,\n",
    "    \"Humidity\": humidity,\n",
    "    \"Cloudiness\": clouds,\n",
    "    \"Wind Speed\": wind,\n",
    "    \"Lat\": lat,\n",
    "    \"Lng\": lon\n",
    "}\n",
    "weather_df = pd.DataFrame(weather_dict)\n",
    "weather_df.to_csv(output_data_file, index=False, header=True)\n",
    "weather_df.head()"
   ]
  },
  {
   "cell_type": "markdown",
   "metadata": {},
   "source": [
    "### Plotting the Data\n",
    "* Use proper labeling of the plots using plot titles (including date of analysis) and axes labels.\n",
    "* Save the plotted figures as .pngs."
   ]
  },
  {
   "cell_type": "markdown",
   "metadata": {},
   "source": [
    "#### Latitude vs. Temperature Plot"
   ]
  },
  {
   "cell_type": "code",
   "execution_count": null,
   "metadata": {},
   "outputs": [],
   "source": [
    "def scatterPlot (x_axis, y_axis, title, xlabel, ylabel):\n",
    "    plt.scatter(x_axis, y_axis, marker=\"o\", facecolors=\"steelblue\", edgecolors=\"darkslategray\")\n",
    "    plt.grid()\n",
    "    plt.title(title)\n",
    "    plt.xlabel(xlabel)\n",
    "    plt.ylabel(ylabel)"
   ]
  },
  {
   "cell_type": "code",
   "execution_count": null,
   "metadata": {
    "scrolled": true
   },
   "outputs": [],
   "source": [
    "temp_f = ((weather_df['Max Temp']) * 9/5) + 32 \n",
    "latitude = weather_df['Lat']\n",
    "data_date = weather_df['Date'][0]\n",
    "dateconvert = pd.to_datetime(data_date, unit='s')\n",
    "date = dateconvert.date()\n",
    "LatTempPlot = scatterPlot(latitude, temp_f, \"City Latitude vs Max Temperature\", \"City Latitude\", \"Max Temperature (F)\")"
   ]
  },
  {
   "cell_type": "markdown",
   "metadata": {},
   "source": [
    "#### Latitude vs. Humidity Plot"
   ]
  },
  {
   "cell_type": "code",
   "execution_count": null,
   "metadata": {},
   "outputs": [],
   "source": [
    "humid = weather_df['Humidity']\n",
    "LatHumidPlot = scatterPlot(latitude, humid, \"City Latitude vs Humidity\", \"City Latitude\", \"Humidity (%)\")"
   ]
  },
  {
   "cell_type": "markdown",
   "metadata": {},
   "source": [
    "#### Latitude vs. Cloudiness Plot"
   ]
  },
  {
   "cell_type": "code",
   "execution_count": null,
   "metadata": {},
   "outputs": [],
   "source": [
    "cloudiness = weather_df['Cloudiness']\n",
    "LatCloudPlot = scatterPlot(latitude, cloudiness, \"City Latitude vs Cloudiness\", \"City Latitude\", \"Cloudiness (%)\")"
   ]
  },
  {
   "cell_type": "markdown",
   "metadata": {},
   "source": [
    "#### Latitude vs. Wind Speed Plot"
   ]
  },
  {
   "cell_type": "code",
   "execution_count": null,
   "metadata": {},
   "outputs": [],
   "source": [
    "windspeed = weather_df['Wind Speed'] *  0.6213711922\n",
    "LatWindPlot = scatterPlot(latitude, windspeed, \"City Latitude vs Wind Speed\", \"City Latitude\", \"Wind Speed (mph)\")"
   ]
  },
  {
   "cell_type": "markdown",
   "metadata": {},
   "source": [
    "## Linear Regression"
   ]
  },
  {
   "cell_type": "code",
   "execution_count": null,
   "metadata": {},
   "outputs": [],
   "source": [
    "# OPTIONAL: Create a function to create Linear Regression plots\n",
    "def lin_regress(x, y):\n",
    "    vc_slope, vc_int, vc_r, vc_p, vc_std_err = stats.linregress(x, y)\n",
    "    vc_fit = vc_slope * x + vc_int\n",
    "    line_eq = \"y = \" + str(round(vc_slope,2)) + \"x + \" + str(round(vc_int,2))\n",
    "    return {'fit': vc_fit, 'r': vc_r, 'line_eq': line_eq}"
   ]
  },
  {
   "cell_type": "code",
   "execution_count": null,
   "metadata": {},
   "outputs": [],
   "source": [
    "# Create Northern and Southern Hemisphere DataFrames\n",
    "north_df = weather_df[weather_df['Lat'] >= 0]\n",
    "south_df = weather_df[weather_df['Lat'] < 0]"
   ]
  },
  {
   "cell_type": "markdown",
   "metadata": {},
   "source": [
    "####  Northern Hemisphere - Max Temp vs. Latitude Linear Regression"
   ]
  },
  {
   "cell_type": "code",
   "execution_count": null,
   "metadata": {},
   "outputs": [],
   "source": [
    "latitude = north_df['Lat']\n",
    "temp_f = ((north_df['Max Temp']) * 9/5) + 32\n",
    "result = lin_regress(latitude, temp_f)\n",
    "w_fit = result['fit']\n",
    "r_value = result['r']\n",
    "line_eq = result['line_eq']\n",
    "print(f\"The r-squared is: {r_value**2}\")\n",
    "NLatTempPlot = scatterPlot(latitude, temp_f, \"N. Hemisphere Latitude vs Max Temp Linear Regression\", \"Latitude\", \"Max Temp\")\n",
    "plt.plot(latitude,w_fit,\"--\",color=\"red\")\n",
    "plt.annotate(line_eq,(6,10),fontsize=15,color=\"red\")"
   ]
  },
  {
   "cell_type": "markdown",
   "metadata": {},
   "source": [
    "####  Southern Hemisphere - Max Temp vs. Latitude Linear Regression"
   ]
  },
  {
   "cell_type": "code",
   "execution_count": 55,
   "metadata": {},
   "outputs": [
    {
     "name": "stdout",
     "output_type": "stream",
     "text": [
      "The r-squared is: 0.5620906835598162\n"
     ]
    },
    {
     "data": {
      "text/plain": [
       "Text(6, 10, 'y = 0.63x + 84.75')"
      ]
     },
     "execution_count": 55,
     "metadata": {},
     "output_type": "execute_result"
    },
    {
     "data": {
      "image/png": "[encoded data removed]",
      "text/plain": [
       "<Figure size 432x288 with 1 Axes>"
      ]
     },
     "metadata": {
      "needs_background": "light"
     },
     "output_type": "display_data"
    }
   ],
   "source": [
    "latitude = south_df['Lat']\n",
    "temp_f = ((south_df['Max Temp']) * 9/5) + 32\n",
    "result = lin_regress(latitude, temp_f)\n",
    "w_fit = result['fit']\n",
    "r_value = result['r']\n",
    "line_eq = result['line_eq']\n",
    "print(f\"The r-squared is: {r_value**2}\")\n",
    "SLatTempPlot = scatterPlot(latitude, temp_f, \"S. Hemisphere Latitude vs Max Temp Linear Regression\", \"Latitude\", \"Max Temp\")\n",
    "plt.plot(latitude,w_fit,\"--\",color=\"red\")\n",
    "plt.annotate(line_eq,(6,10),fontsize=15,color=\"red\")"
   ]
  },
  {
   "cell_type": "markdown",
   "metadata": {},
   "source": [
    "####  Northern Hemisphere - Humidity (%) vs. Latitude Linear Regression"
   ]
  },
  {
   "cell_type": "code",
   "execution_count": null,
   "metadata": {},
   "outputs": [],
   "source": [
    "latitude = north_df['Lat']\n",
    "humidity = north_df['Humidity']\n",
    "result = lin_regress(latitude, humidity)\n",
    "w_fit = result['fit']\n",
    "r_value = result['r']\n",
    "line_eq = result['line_eq']\n",
    "print(f\"The r-squared is: {r_value**2}\")\n",
    "NHLatTempPlot = scatterPlot(latitude, humidity, \"N. Hemisphere Latitude vs Humidity Linear Regression\", \"Latitude\", \"Humidity\")\n",
    "plt.plot(latitude,w_fit,\"--\",color=\"red\")\n",
    "plt.annotate(line_eq,(6,10),fontsize=15,color=\"red\")"
   ]
  },
  {
   "cell_type": "markdown",
   "metadata": {},
   "source": [
    "####  Southern Hemisphere - Humidity (%) vs. Latitude Linear Regression"
   ]
  },
  {
   "cell_type": "code",
   "execution_count": null,
   "metadata": {},
   "outputs": [],
   "source": [
    "latitude = south_df['Lat']\n",
    "humidity = south_df['Humidity']\n",
    "result = lin_regress(latitude, humidity)\n",
    "w_fit = result['fit']\n",
    "r_value = result['r']\n",
    "print(f\"The r-squared is: {r_value**2}\")\n",
    "SHLatTempPlot = scatterPlot(latitude, humidity, \"S. Hemisphere Latitude vs Humidity Linear Regression\", \"Latitude\", \"Humidity\")\n",
    "plt.plot(latitude,w_fit,\"--\",color=\"red\")"
   ]
  },
  {
   "cell_type": "markdown",
   "metadata": {},
   "source": [
    "####  Northern Hemisphere - Cloudiness (%) vs. Latitude Linear Regression"
   ]
  },
  {
   "cell_type": "code",
   "execution_count": null,
   "metadata": {},
   "outputs": [],
   "source": [
    "latitude = north_df['Lat']\n",
    "clouds = north_df['Cloudiness']\n",
    "result = lin_regress(latitude, clouds)\n",
    "w_fit = result['fit']\n",
    "r_value = result['r']\n",
    "print(f\"The r-squared is: {r_value**2}\")\n",
    "NCLatTempPlot = scatterPlot(latitude, clouds, \"N. Hemisphere Latitude vs Cloudiness Linear Regression\", \"Latitude\", \"Cloudiness\")\n",
    "plt.plot(latitude,w_fit,\"--\",color=\"red\")"
   ]
  },
  {
   "cell_type": "markdown",
   "metadata": {},
   "source": [
    "####  Southern Hemisphere - Cloudiness (%) vs. Latitude Linear Regression"
   ]
  },
  {
   "cell_type": "code",
   "execution_count": null,
   "metadata": {},
   "outputs": [],
   "source": [
    "latitude = south_df['Lat']\n",
    "clouds = south_df['Cloudiness']\n",
    "result = lin_regress(latitude, clouds)\n",
    "w_fit = result['fit']\n",
    "r_value = result['r']\n",
    "print(f\"The r-squared is: {r_value**2}\")\n",
    "SCLatTempPlot = scatterPlot(latitude, clouds, \"S. Hemisphere Latitude vs Cloudiness Linear Regression\", \"Latitude\", \"Cloudiness\")\n",
    "plt.plot(latitude,w_fit,\"--\",color=\"red\")"
   ]
  },
  {
   "cell_type": "markdown",
   "metadata": {},
   "source": [
    "####  Northern Hemisphere - Wind Speed (mph) vs. Latitude Linear Regression"
   ]
  },
  {
   "cell_type": "code",
   "execution_count": null,
   "metadata": {},
   "outputs": [],
   "source": [
    "latitude = north_df['Lat']\n",
    "wind = north_df['Wind Speed']\n",
    "result = lin_regress(latitude, wind)\n",
    "w_fit = result['fit']\n",
    "r_value = result['r']\n",
    "print(f\"The r-squared is: {r_value**2}\")\n",
    "NWLatTempPlot = scatterPlot(latitude, wind, \"N. Hemisphere Latitude vs Wind Speed Linear Regression\", \"Latitude\", \"Wind Speed\")\n",
    "plt.plot(latitude,w_fit,\"--\",color=\"red\")"
   ]
  },
  {
   "cell_type": "markdown",
   "metadata": {},
   "source": [
    "####  Southern Hemisphere - Wind Speed (mph) vs. Latitude Linear Regression"
   ]
  },
  {
   "cell_type": "code",
   "execution_count": null,
   "metadata": {},
   "outputs": [],
   "source": [
    "latitude = south_df['Lat']\n",
    "wind = south_df['Wind Speed']\n",
    "result = lin_regress(latitude, wind)\n",
    "w_fit = result['fit']\n",
    "r_value = result['r']\n",
    "print(f\"The r-squared is: {r_value**2}\")\n",
    "SWLatTempPlot = scatterPlot(latitude, wind, \"S. Hemisphere Latitude vs Wind Speed Linear Regression\", \"Latitude\", \"Wind Speed\")\n",
    "plt.plot(latitude,w_fit,\"--\",color=\"red\")"
   ]
  },
  {
   "cell_type": "code",
   "execution_count": null,
   "metadata": {},
   "outputs": [],
   "source": []
  }
 ],
 "metadata": {
  "anaconda-cloud": {},
  "kernel_info": {
   "name": "python3"
  },
  "kernelspec": {
   "display_name": "Python 3",
   "language": "python",
   "name": "python3"
  },
  "language_info": {
   "codemirror_mode": {
    "name": "ipython",
    "version": 3
   },
   "file_extension": ".py",
   "mimetype": "text/x-python",
   "name": "python",
   "nbconvert_exporter": "python",
   "pygments_lexer": "ipython3",
   "version": "3.7.4"
  },
  "latex_envs": {
   "LaTeX_envs_menu_present": true,
   "autoclose": false,
   "autocomplete": true,
   "bibliofile": "biblio.bib",
   "cite_by": "apalike",
   "current_citInitial": 1,
   "eqLabelWithNumbers": true,
   "eqNumInitial": 1,
   "hotkeys": {
    "equation": "Ctrl-E",
    "itemize": "Ctrl-I"
   },
   "labels_anchors": false,
   "latex_user_defs": false,
   "report_style_numbering": false,
   "user_envs_cfg": false
  },
  "nteract": {
   "version": "0.12.3"
  }
 },
 "nbformat": 4,
 "nbformat_minor": 2
}
